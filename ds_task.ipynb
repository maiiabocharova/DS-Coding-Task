{
 "cells": [
  {
   "cell_type": "code",
   "execution_count": 331,
   "id": "f7760e79-f40f-40f9-b44c-cbf96ee42b8c",
   "metadata": {},
   "outputs": [],
   "source": [
    "import pandas as pd\n",
    "import numpy as np\n",
    "import re\n",
    "from nltk.tokenize import TweetTokenizer\n",
    "from collections import Counter\n",
    "\n",
    "from sklearn.model_selection import train_test_split\n",
    "from sklearn.metrics import accuracy_score\n",
    "from sklearn.feature_extraction.text import TfidfVectorizer\n",
    "from sklearn.linear_model import LogisticRegression\n",
    "from sklearn import naive_bayes\n",
    "\n",
    "import matplotlib.pyplot as plt\n",
    "from matplotlib.colors import ListedColormap\n",
    "import seaborn as sns\n",
    "\n",
    "import warnings\n",
    "warnings.simplefilter(\"ignore\")\n",
    "\n",
    "pd.set_option(\"max_colwidth\", None)"
   ]
  },
  {
   "cell_type": "code",
   "execution_count": 137,
   "id": "d31db046-9926-4691-b47b-e8d12b35c35e",
   "metadata": {},
   "outputs": [
    {
     "name": "stderr",
     "output_type": "stream",
     "text": [
      "b'Skipping line 8836: expected 4 fields, saw 5\\n'\n",
      "b'Skipping line 535882: expected 4 fields, saw 7\\n'\n"
     ]
    }
   ],
   "source": [
    "df = pd.read_csv(\"Sentiment Analysis Dataset.csv\", error_bad_lines=False)"
   ]
  },
  {
   "cell_type": "code",
   "execution_count": 34,
   "id": "7d3685c0-5802-466c-a31f-762a8a43fcd8",
   "metadata": {},
   "outputs": [
    {
     "data": {
      "text/plain": [
       "(1578612, 4)"
      ]
     },
     "execution_count": 34,
     "metadata": {},
     "output_type": "execute_result"
    }
   ],
   "source": [
    "print(df.shape)\n",
    "df.drop_duplicates(inplace=True)\n",
    "print(df.shape)"
   ]
  },
  {
   "cell_type": "code",
   "execution_count": 44,
   "id": "1446630d-6c7f-4485-8342-51ea55b1d520",
   "metadata": {},
   "outputs": [
    {
     "data": {
      "image/png": "[encoded data removed]",
      "text/plain": [
       "<Figure size 432x288 with 1 Axes>"
      ]
     },
     "metadata": {
      "needs_background": "light"
     },
     "output_type": "display_data"
    }
   ],
   "source": [
    "cl = ['Positive', 'Negative']\n",
    "positive = df[df.Sentiment == 1].Sentiment.sum()\n",
    "negative = df[df.Sentiment == 0].Sentiment.count()\n",
    "counts = [positive, negative]\n",
    "barlist = plt.bar(cl, counts)\n",
    "barlist[0].set_color('g')\n",
    "barlist[1].set_color('r')\n",
    "plt.title('Classes distribution in the train data', fontsize=12)\n",
    "plt.show()"
   ]
  },
  {
   "cell_type": "markdown",
   "id": "76d279e0-7d43-4784-9051-df9172e447d9",
   "metadata": {},
   "source": [
    "## Data Cleaning"
   ]
  },
  {
   "cell_type": "code",
   "execution_count": null,
   "id": "f4e00f14-ecfd-44a3-9f04-e2454a7871ee",
   "metadata": {},
   "outputs": [],
   "source": [
    "tweet_tokenizer = TweetTokenizer()\n",
    "df[\"tokenized\"] = df[\"SentimentText\"].apply(tweet_tokenizer.tokenize)"
   ]
  },
  {
   "cell_type": "code",
   "execution_count": 251,
   "id": "9c991872-5f71-4b8d-8a02-d8fa3e53f2b0",
   "metadata": {},
   "outputs": [],
   "source": [
    "def replace_contractions(words):\n",
    "    cont = {\"aren't\": 'are not', \"can't\": 'cannot', \"couln't\": 'could not', \n",
    "        \"didn't\": 'did not', \"doesn't\": 'does not', \"hadn't\": 'had not', \n",
    "        \"haven't\": 'have not', \"he's\" : 'he is', \"she's\": 'she is', \n",
    "        \"he'll\": \"he will\", \"she'll\": 'she will', \"he'd\": \"he would\", \n",
    "        \"she'd\": \"she would\", \"here's\": \"here is\", \"i'm\": 'i am', \n",
    "        \"i've\": \"i have\", \"i'll\": \"i will\", \"i'd\": \"i would\", \"isn't\": \"is not\", \n",
    "        \"it's\": \"it is\", \"it'll\": \"it will\", \"mustn't\": \"must not\", \n",
    "        \"shouldn't\": \"should not\", \"that's\": \"that is\", \"there's\": \"there is\", \n",
    "        \"they're\": \"they are\", \"they've\": \"they have\", \"they'll\": \"they will\", \n",
    "        \"they'd\": \"they would\", \"wasn't\": \"was not\", \"we're\": \"we are\", \n",
    "        \"we've\": \"we have\", \"we'll\": \"we will\", \"we'd\": \"we would\", \n",
    "        \"weren't\": \"were not\", \"what's\": \"what is\", \"where's\": \"where is\", \n",
    "        \"who's\": \"who is\", \"who'll\":\"who will\", \"won't\": \"will not\", \n",
    "        \"wouldn't\": \"would not\", \"you're\": \"you are\", \"you've\": \"you have\",\n",
    "        \"you'll\": \"you will\", \"you'd\": \"you would\", \"mayn't\": \"may not\"}\n",
    "    \n",
    "    reformed = []\n",
    "    for w in words:\n",
    "        if w.lower() in cont:\n",
    "            reformed.append(cont[w.lower()])\n",
    "        else:\n",
    "            reformed.append(w)\n",
    "            \n",
    "    return reformed"
   ]
  },
  {
   "cell_type": "code",
   "execution_count": 270,
   "id": "85ff8755-3b71-4618-931e-eecb9259ec02",
   "metadata": {},
   "outputs": [],
   "source": [
    "def replace_smileys(words):\n",
    "  \n",
    "    emoticons_happy = set([':-)', ':)', ';)', ':o)', ':]', ':3', ':c)', ':>', '=]', '8)', '=)', ':}', ':D',\n",
    "    ':^)', ':-D', ':D', '8-D', '8D', 'x-D', 'xD', 'X-D', 'XD', '=-D', '=D',\n",
    "    '=-3', '=3', ':-))', \":'-)\", \":')\", ':*', ':^*', '>:P', ':-P', ':P', 'X-P',\n",
    "    'x-p', 'xp', 'XP', ':-p', ':p', '=p', ':-b', ':b', '>:)', '>;)', '>:-)', '<3'])\n",
    "\n",
    "    emoticons_sad = set([':L', ':-/', '>:/', ':S', '>:[', ':@', ':-(', ':[', ':-||', '=L', ':<',\n",
    "    ':-[', ':-<', '=\\\\', '=/', '>:(', ':(', '>.<', \":'-(\", \":'(\", ':\\\\', ':-c',\n",
    "    ':c', ':{', '>:\\\\', ';('])  \n",
    "\n",
    "    reformed = []\n",
    "    for w in words:\n",
    "        if w in emoticons_happy:\n",
    "            reformed.append(\"happy\")\n",
    "        elif w in emoticons_sad:\n",
    "            reformed.append(\"sad\") \n",
    "        else:\n",
    "            reformed.append(w)\n",
    "    t = \" \".join([w for w in reformed if len(w)>1])\n",
    "    return t"
   ]
  },
  {
   "cell_type": "code",
   "execution_count": 320,
   "id": "c9fd84e4-6207-407d-ad3a-fb1cc9ac86bb",
   "metadata": {},
   "outputs": [],
   "source": [
    "def remove_non_chars(sent):\n",
    "    # remove usernames\n",
    "    sent = re.sub(r\"@[^\\s]+\", \"\", sent)\n",
    "    # remove links\n",
    "    sent = re.sub(r\"(http[^\\s]+)|(www\\.[^\\s]+)\", \"\", sent)\n",
    "    # remove duplicate characters\n",
    "    sent = re.sub(r\"(?i)(\\w)\\1{3,}\", r\"\\1\", sent)\n",
    "    sent = re.sub(r\"[.,-<]\", \"\", sent)\n",
    "    return sent"
   ]
  },
  {
   "cell_type": "code",
   "execution_count": 321,
   "id": "cbbecd51-e9bd-40af-8cd9-502834386e32",
   "metadata": {},
   "outputs": [],
   "source": [
    "df[\"reformed\"] = df[\"tokenized\"].apply(replace_contractions)\n",
    "df[\"reformed\"] = df[\"reformed\"].apply(replace_smileys)\n",
    "df[\"reformed\"] = df[\"reformed\"].apply(remove_non_chars)"
   ]
  },
  {
   "cell_type": "code",
   "execution_count": 314,
   "id": "1639f6c0-7013-474d-88e6-b6582d39245e",
   "metadata": {},
   "outputs": [],
   "source": [
    "df.to_csv(\"tweeter.csv\", index=False)"
   ]
  },
  {
   "cell_type": "markdown",
   "id": "de8b1774-833a-44c0-b7a8-447f33ef9edc",
   "metadata": {},
   "source": [
    "## Most positive and most negative words extraction"
   ]
  },
  {
   "cell_type": "markdown",
   "id": "9c4aa43a-0904-4e6f-a35b-4c2eccef8f8d",
   "metadata": {},
   "source": [
    "If we just show the words which were most frequent in positive and negative sentences we will only get the most frequent stop-words, let's look at them"
   ]
  },
  {
   "cell_type": "code",
   "execution_count": 323,
   "id": "aa03da94-3198-4363-a5aa-157b6a39335c",
   "metadata": {},
   "outputs": [
    {
     "data": {
      "text/plain": [
       "[('the', 246759),\n",
       " ('to', 246678),\n",
       " ('you', 178299),\n",
       " ('is', 162839),\n",
       " ('and', 137909),\n",
       " ('it', 136023),\n",
       " ('for', 113992),\n",
       " ('my', 113507),\n",
       " ('in', 95872),\n",
       " ('of', 88683)]"
      ]
     },
     "execution_count": 323,
     "metadata": {},
     "output_type": "execute_result"
    }
   ],
   "source": [
    "positive_sentences = df[df[\"Sentiment\"]==1][\"reformed\"].tolist()\n",
    "positive_words = [w for sent in positive_sentences \n",
    "                  for w in tweet_tokenizer.tokenize(sent)]\n",
    "Counter(positive_words).most_common(10)"
   ]
  },
  {
   "cell_type": "code",
   "execution_count": 325,
   "id": "c9b90761-0687-4bee-9c15-692bc19729a4",
   "metadata": {},
   "outputs": [
    {
     "data": {
      "text/plain": [
       "[('to', 307731),\n",
       " ('the', 241863),\n",
       " ('is', 183819),\n",
       " ('my', 167442),\n",
       " ('it', 145638),\n",
       " ('and', 143461),\n",
       " ('not', 114847),\n",
       " ('in', 110731),\n",
       " ('am', 104512),\n",
       " ('i', 99604)]"
      ]
     },
     "execution_count": 325,
     "metadata": {},
     "output_type": "execute_result"
    }
   ],
   "source": [
    "negative_sentences = df[df[\"Sentiment\"]==0][\"reformed\"].tolist()\n",
    "negative_words = [w for sent in negative_sentences \n",
    "                  for w in tweet_tokenizer.tokenize(sent)]\n",
    "Counter(negative_words).most_common(10)"
   ]
  },
  {
   "cell_type": "markdown",
   "id": "c9b870ee-ceaa-4f40-9ee8-1211da8c446f",
   "metadata": {},
   "source": [
    "to extract trully important words and get rid of stop-words let's use tf-idf method"
   ]
  },
  {
   "cell_type": "code",
   "execution_count": 346,
   "id": "c121d953-c289-4c8a-b21b-2d5a0d5c44c1",
   "metadata": {},
   "outputs": [],
   "source": [
    "def tfidf_features(sentences):\n",
    "    \"\"\"\n",
    "        sentences — samples        \n",
    "        returns TF-IDF vectorized representation of each sample and feature_names\n",
    "    \"\"\"\n",
    "    def custom_tokenize(sent):\n",
    "        sent = re.sub(r\"[^a-zA-Z0-9 ]\", \"\", sent)\n",
    "        return [w for w in tweet_tokenizer.tokenize(sent.lower()) if len(w) > 1]\n",
    "    tfidf_vectorizer = TfidfVectorizer(tokenizer=custom_tokenize, \n",
    "                             min_df = 75, \n",
    "                             max_df = 0.4,\n",
    "                             lowercase=False)\n",
    "    tfidf_sentences = tfidf_vectorizer.fit_transform(sentences)\n",
    "\n",
    "    return tfidf_sentences, tfidf_vectorizer.get_feature_names()"
   ]
  },
  {
   "cell_type": "code",
   "execution_count": 347,
   "id": "fdb973f8-2238-45de-95fc-afa8c271da65",
   "metadata": {},
   "outputs": [],
   "source": [
    "tfidf_sentences, feature_names = tfidf_features(df[\"reformed\"])"
   ]
  },
  {
   "cell_type": "code",
   "execution_count": 348,
   "id": "f98f6139-a98b-465b-a42c-1c69d05ed946",
   "metadata": {},
   "outputs": [
    {
     "data": {
      "text/plain": [
       "LogisticRegression()"
      ]
     },
     "execution_count": 348,
     "metadata": {},
     "output_type": "execute_result"
    }
   ],
   "source": [
    "log_reg = LogisticRegression()\n",
    "log_reg.fit(tfidf_sentences,df.Sentiment)"
   ]
  },
  {
   "cell_type": "code",
   "execution_count": 349,
   "id": "5e225f41-210a-4f95-87e8-92aa9b6aec1b",
   "metadata": {},
   "outputs": [
    {
     "data": {
      "image/png": "[encoded data removed]",
      "text/plain": [
       "<Figure size 1080x1080 with 1 Axes>"
      ]
     },
     "metadata": {
      "needs_background": "light"
     },
     "output_type": "display_data"
    }
   ],
   "source": [
    "cm = ListedColormap(['#0000aa', '#ff2020'])\n",
    "\n",
    "coef = log_reg.coef_.ravel()\n",
    "\n",
    "positive_coefficients = np.argsort(coef)[-10:]\n",
    "negative_coefficients = np.argsort(coef)[:10]\n",
    "interesting_coefficients = np.hstack([negative_coefficients,\n",
    "                                      positive_coefficients])\n",
    "\n",
    "positive_coefficients = np.argsort(coef)[-10:]\n",
    "negative_coefficients = np.argsort(coef)[:10]\n",
    "interesting_coefficients = np.hstack([negative_coefficients,\n",
    "                                      positive_coefficients])\n",
    "# plot them\n",
    "plt.figure(figsize=(15, 15))\n",
    "colors = [cm(1) if c < 0 else cm(0)\n",
    "          for c in coef[interesting_coefficients]]\n",
    "plt.bar(np.arange(2 * 10), coef[interesting_coefficients],\n",
    "        color=colors)\n",
    "feature_names = np.array(feature_names)\n",
    "plt.subplots_adjust(bottom=0.3)\n",
    "plt.xticks(np.arange(1, 1 + 2 * 10),\n",
    "           feature_names[interesting_coefficients], rotation=60,\n",
    "           ha=\"right\")\n",
    "plt.ylabel(\"Coefficient magnitude\")\n",
    "plt.xlabel(\"Feature\");"
   ]
  },
  {
   "cell_type": "markdown",
   "id": "1ca3f537-771a-4cc9-acd2-427b714c87bd",
   "metadata": {},
   "source": [
    "##  Zipf law"
   ]
  },
  {
   "cell_type": "code",
   "execution_count": 350,
   "id": "6c35d93d-efad-4d1e-95ed-4676bc8fb374",
   "metadata": {},
   "outputs": [],
   "source": [
    "WORDS = positive_words + negative_words\n",
    "COUNTS = Counter(WORDS)"
   ]
  },
  {
   "cell_type": "code",
   "execution_count": 383,
   "id": "1ebb3af7-6e9e-4fd9-b2de-bac86bd91650",
   "metadata": {},
   "outputs": [
    {
     "data": {
      "text/plain": [
       "[('to', 554409),\n",
       " ('the', 488622),\n",
       " ('is', 346658),\n",
       " ('it', 281661),\n",
       " ('and', 281370)]"
      ]
     },
     "execution_count": 383,
     "metadata": {},
     "output_type": "execute_result"
    }
   ],
   "source": [
    "COUNTS.most_common(5)"
   ]
  },
  {
   "cell_type": "markdown",
   "id": "2564e410-c2b0-4a08-af9a-ad2435867d11",
   "metadata": {},
   "source": [
    "The frequency of any word is inversely proportional to its rank in the frequency table.\n",
    "To visualize it let's make a log-log-plot. So according to this law we should get the \n",
    "line, in our case we can see that we get approzimately the anticipated result"
   ]
  },
  {
   "cell_type": "code",
   "execution_count": 389,
   "id": "c61704b8-bbc8-44c3-9d27-c526ad5b7866",
   "metadata": {},
   "outputs": [
    {
     "data": {
      "image/png": "[encoded data removed]",
      "text/plain": [
       "<Figure size 432x288 with 1 Axes>"
      ]
     },
     "metadata": {
      "needs_background": "light"
     },
     "output_type": "display_data"
    }
   ],
   "source": [
    "M = COUNTS['to'] # \"to\" is our most common word, M - it's frequency\n",
    "plt.yscale('log')\n",
    "plt.xscale('log')\n",
    "plt.title('Frequency of the n-th most common word and line 1/n.')\n",
    "plt.plot([c for (w, c) in COUNTS.most_common()], \n",
    "         label=\"Frequency of the n-th most common word\")\n",
    "plt.plot([M/i for i in range(1, len(COUNTS)+1)], label=\"line 1/n\")\n",
    "plt.legend();"
   ]
  },
  {
   "cell_type": "markdown",
   "id": "dfe4edc2-1b43-4afd-b2e0-bb7691d6939f",
   "metadata": {},
   "source": [
    "## Model for classification"
   ]
  },
  {
   "cell_type": "code",
   "execution_count": 335,
   "id": "86d9b233-3c4a-40f0-b010-c18869413a0f",
   "metadata": {},
   "outputs": [],
   "source": [
    "train, test = train_test_split(df, test_size=0.15, random_state=42)\n",
    "\n",
    "x_train = train[\"reformed\"] \n",
    "y_train = train[\"Sentiment\"]\n",
    "\n",
    "x_test = test[\"reformed\"] \n",
    "y_test = test[\"Sentiment\"]"
   ]
  },
  {
   "cell_type": "code",
   "execution_count": 338,
   "id": "ad1b6e24-513d-4c2d-bbb1-c8d99925c988",
   "metadata": {},
   "outputs": [],
   "source": [
    "def tfidf_features(x_train, x_test):\n",
    "    \"\"\"\n",
    "        x_train, x_test — samples        \n",
    "        return TF-IDF vectorized representation of each sample and vocabulary\n",
    "    \"\"\"\n",
    "    # Create TF-IDF vectorizer with a proper parameters choice\n",
    "    # Fit the vectorizer on the train set\n",
    "    # Transform the train, test sets and return the result\n",
    "    def custom_tokenize(sent):\n",
    "        sent = re.sub(r\"[^a-zA-Z0-9 ]\", \"\", sent)\n",
    "        return [w for w in tweet_tokenizer.tokenize(sent.lower()) if len(w) > 1]\n",
    "    tfidf_vectorizer = TfidfVectorizer(tokenizer=custom_tokenize, \n",
    "                             min_df = 75, \n",
    "                             max_df = 0.4,\n",
    "                             lowercase=False)\n",
    "    tfidf_vectorizer.fit(x_train)\n",
    "    x_train = tfidf_vectorizer.transform(x_train)\n",
    "    x_test = tfidf_vectorizer.transform(x_test)\n",
    "    return x_train, x_test, tfidf_vectorizer.get_feature_names()"
   ]
  },
  {
   "cell_type": "code",
   "execution_count": 339,
   "id": "6d1c3685-34fc-484f-be2e-6334502af595",
   "metadata": {},
   "outputs": [],
   "source": [
    "x_train_tfidf, x_test_tfidf, feature_names = tfidf_features(x_train, x_test)"
   ]
  },
  {
   "cell_type": "code",
   "execution_count": 340,
   "id": "7e5f951f-f251-4803-9500-7704fd9251ca",
   "metadata": {},
   "outputs": [
    {
     "name": "stdout",
     "output_type": "stream",
     "text": [
      "Naive Bayes Accuracy Score ->  77.34467380654752\n"
     ]
    }
   ],
   "source": [
    "nbc = naive_bayes.MultinomialNB()\n",
    "nbc.fit(x_train_tfidf,y_train)\n",
    "# predict the labels on validation dataset\n",
    "predictions_NB = nbc.predict(x_test_tfidf)\n",
    "# Use accuracy_score function to get the accuracy\n",
    "print(\"Naive Bayes Accuracy Score -> \",accuracy_score(predictions_NB, y_test)*100)"
   ]
  },
  {
   "cell_type": "code",
   "execution_count": 344,
   "id": "5ff1c211-65a2-4c12-b94d-8f32c6724fa1",
   "metadata": {},
   "outputs": [
    {
     "name": "stdout",
     "output_type": "stream",
     "text": [
      "Logistic Regression Accuracy Score ->  79.50521977093821\n"
     ]
    }
   ],
   "source": [
    "log_reg = LogisticRegression()\n",
    "log_reg.fit(x_train_tfidf,y_train)\n",
    "predictions_log_reg = log_reg.predict(x_test_tfidf)\n",
    "# Use accuracy_score function to get the accuracy\n",
    "print(\"Logistic Regression Accuracy Score -> \",accuracy_score(predictions_log_reg, y_test)*100)"
   ]
  },
  {
   "cell_type": "markdown",
   "id": "b8cf0d44-571b-47ee-a074-0d57c5df0c0a",
   "metadata": {},
   "source": [
    "**To get better results we can**:\n",
    "\n",
    "1. Find, review and than use a list of stop-word\n",
    "2. Use SpaCy for lemmatization\n",
    "3. Use Grid Search to choose best parameters (regularization for Logistic Regression and min_df, max_df parameters for TfidfVectorizer)\n",
    "4. Experiment with neural networks (different architectures and embeddings)\n",
    "For example Universal Sentence Encoder + try something like the following: "
   ]
  },
  {
   "cell_type": "code",
   "execution_count": null,
   "id": "3fe7bf20-9f5b-4f82-ab8b-412ee5d2506b",
   "metadata": {},
   "outputs": [],
   "source": [
    "import tensorflow_hub as hub\n",
    "import tensorflow as tf\n",
    "import numpy as np\n",
    "import pandas as pd\n",
    "from sklearn.model_selection import train_test_split\n",
    "\n",
    "embed = hub.KerasLayer(\"https://tfhub.dev/google/universal-sentence-encoder/4\", input_shape=[],\n",
    "                             output_shape=[512])\n",
    "\n",
    "from google.colab import drive\n",
    "drive.mount(\"/content/drive\")\n",
    "\n",
    "df = pd.read_csv(\"/content/drive/MyDrive/datasets/tweeter.csv\")\n",
    "\n",
    "train, test = train_test_split(df, test_size=0.15, random_state=42)\n",
    "\n",
    "x_train = train.reformed.tolist()\n",
    "y_train = train.Sentiment.values\n",
    "\n",
    "x_test = test.reformed.tolist()\n",
    "y_test = test.Sentiment.values\n",
    "\n",
    "x_train = np.array([str(x) for x in x_train])\n",
    "x_test = np.array([str(x) for x in x_test])\n",
    "\n",
    "\n",
    "model = tf.keras.models.Sequential([\n",
    "    tf.keras.layers.Dense(256, activation='relu'),\n",
    "    tf.keras.layers.Dropout(0.3),\n",
    "    tf.keras.layers.Dense(128, activation='relu'),\n",
    "    tf.keras.layers.Dropout(0.3),                          \n",
    "    tf.keras.layers.Dense(1, activation='sigmoid')\n",
    "])\n",
    "model.compile(optimizer=tf.keras.optimizers.Adam(), \n",
    "              loss='binary_crossentropy', \n",
    "              metrics=['accuracy'])\n",
    "\n",
    "def train_model(model, x_train_chunk, y_train_chunk):\n",
    "    model.fit(x_train_chunk, y_train_chunk, epochs=2, batch_size=128)\n",
    "    return model\n",
    "\n",
    "for i in range(50):\n",
    "    x_train_chunk = x_train[20000*i:20000*(i+1)]\n",
    "    y_train_chunk = y_train[20000*i:20000*(i+1)]\n",
    "    x_train_chunk = embed(x_train_chunk)\n",
    "\n",
    "    model = train_model(model, x_train_chunk, y_train_chunk)"
   ]
  },
  {
   "cell_type": "markdown",
   "id": "d22e6916-070c-4576-ad42-2e569e8bbe48",
   "metadata": {},
   "source": [
    "this architecture actually gives us a small improvement in accuracy (80.26%).\n",
    "\n",
    "We can experiment and improve performance based on a time which we are prepared to spend on the task."
   ]
  }
 ],
 "metadata": {
  "kernelspec": {
   "display_name": "Python 3",
   "language": "python",
   "name": "python3"
  },
  "language_info": {
   "codemirror_mode": {
    "name": "ipython",
    "version": 3
   },
   "file_extension": ".py",
   "mimetype": "text/x-python",
   "name": "python",
   "nbconvert_exporter": "python",
   "pygments_lexer": "ipython3",
   "version": "3.8.8"
  }
 },
 "nbformat": 4,
 "nbformat_minor": 5
}
